{
 "cells": [
  {
   "attachments": {},
   "cell_type": "markdown",
   "metadata": {},
   "source": [
    "# Competitor Analysis - Sentiment Analysis"
   ]
  },
  {
   "attachments": {},
   "cell_type": "markdown",
   "metadata": {},
   "source": [
    "## GlassDoor\n",
    "For the Competitor Analysis Use Case, there is opportunity to expolore the sentiment analysis on competitor's company culture based on reviews from the website GlassDoor. In this exploration, we have used a Kaggle dataset which contains GlassDoor reviews between the years 2008 - 2021. We have decided to remove a portion of the healthcare and public governemnt reviews and have subsetted for smaller companies although we decided to keep a couple of big firm companies based in London for comparison. \n",
    "\n",
    "This sentiment analysis exploration looks at using 3 pre-trained models for sentiment analysis: DistilBert, Vader and RoBERTa. "
   ]
  },
  {
   "attachments": {},
   "cell_type": "markdown",
   "metadata": {},
   "source": [
    "### Dataset"
   ]
  },
  {
   "cell_type": "code",
   "execution_count": 1,
   "metadata": {},
   "outputs": [
    {
     "name": "stdout",
     "output_type": "stream",
     "text": [
      "Intel MKL WARNING: Support of Intel(R) Streaming SIMD Extensions 4.2 (Intel(R) SSE4.2) enabled only processors has been deprecated. Intel oneAPI Math Kernel Library 2025.0 will require Intel(R) Advanced Vector Extensions (Intel(R) AVX) instructions.\n",
      "Intel MKL WARNING: Support of Intel(R) Streaming SIMD Extensions 4.2 (Intel(R) SSE4.2) enabled only processors has been deprecated. Intel oneAPI Math Kernel Library 2025.0 will require Intel(R) Advanced Vector Extensions (Intel(R) AVX) instructions.\n",
      "       id                             firm date_review            job_title  \\\n",
      "0  161804  Crowne-Plaza-Hotels-and-Resorts  30/09/2011                        \n",
      "1  161805  Crowne-Plaza-Hotels-and-Resorts  21/02/2012                        \n",
      "2  161806  Crowne-Plaza-Hotels-and-Resorts  26/03/2012    Sales Coordinator   \n",
      "3  161807  Crowne-Plaza-Hotels-and-Resorts  09/04/2012              Manager   \n",
      "4  161808  Crowne-Plaza-Hotels-and-Resorts  06/05/2012   Assistant Manager    \n",
      "\n",
      "                    location  overall_rating  \\\n",
      "0            Cherry Hill, NJ               3   \n",
      "1                 Dallas, TX               1   \n",
      "2                        NaN               3   \n",
      "3            Saint Louis, MO               2   \n",
      "4  Gurgaon, Haryana, Haryana               1   \n",
      "\n",
      "                                            headline  \\\n",
      "0  A lot of potential if a few key players were l...   \n",
      "1                                Would not work here   \n",
      "2  The hotel needed renovations so it was hard to...   \n",
      "3             The worst personal growth Company ever   \n",
      "4  A place driven by pure politics and regardless...   \n",
      "\n",
      "                                                pros  \\\n",
      "0  A special group of employees that are trustwor...   \n",
      "1                 The pay is the best in the market.   \n",
      "2            It is a great place to gain experience.   \n",
      "3     Many of the associates and Managers are great.   \n",
      "4  IHG Brand, Inforamtion Network, Learning Oppor...   \n",
      "\n",
      "                                                cons  \\\n",
      "0  Senior management is full of control freaks wh...   \n",
      "1  If you are not a tenured member the others do ...   \n",
      "2            You are affiliated with the Holiday Inn   \n",
      "3  The General Manager of the Hotel is unfair and...   \n",
      "4  Employee attrition rate, unstable client portf...   \n",
      "\n",
      "                                          reviewText  \n",
      "0  A lot of potential if a few key players were l...  \n",
      "1  Would not work here The pay is the best in the...  \n",
      "2  The hotel needed renovations so it was hard to...  \n",
      "3  The worst personal growth Company ever Many of...  \n",
      "4  A place driven by pure politics and regardless...  \n"
     ]
    }
   ],
   "source": [
    "import pandas as pd\n",
    "from pprint import pprint\n",
    "glassdoor_hotel = pd.read_csv(\"glassdoor_hotels.csv\")\n",
    "\n",
    "glassdoor_hotel[\"reviewText\"] = glassdoor_hotel[\"headline\"] + \" \" + glassdoor_hotel[\"pros\"] + \" \" + glassdoor_hotel[\"cons\"]\n",
    "pprint(glassdoor_hotel.head(5))\n"
   ]
  },
  {
   "cell_type": "code",
   "execution_count": null,
   "metadata": {},
   "outputs": [
    {
     "name": "stdout",
     "output_type": "stream",
     "text": [
      "   ID  Glassdoor Rating                                         ReviewText\n",
      "0   1               4.0  I have been working at ONTHEBOOKS for over fou...\n",
      "1   2               4.2  My experience at ONTHEBOOKS has been nothing s...\n",
      "2   3               2.4  I regret to say that my time at ONTHEBOOKS has...\n",
      "3   4               1.8  Having worked at ONTHEBOOKS for over a year, I...\n",
      "4   5               3.0  My experience at ONTHEBOOKS has been a mixed b...\n"
     ]
    }
   ],
   "source": [
    "import pandas as pd\n",
    "# assign data of lists.\n",
    "data = {'ID': [1, 2, 3, 4,5],'Glassdoor Rating': [4, 4.2, 2.4, 1.8, 3],'ReviewText': [\"I have been working at ONTHEBOOKS for over four years, and I am truly grateful for the opportunities and experiences I've had here. The company is committed to providing top-notch consulting services to its clients, and this dedication to excellence is evident in every aspect of the organization. The management team is supportive and encourages open communication, fostering a culture of collaboration and continuous improvement. ONTHEBOOKS also invests heavily in employee development, offering a wide range of training programs and resources to help us stay at the forefront of industry trends. The work-life balance is commendable, with flexible hours and remote work options that make it easy to maintain a healthy lifestyle. Overall, I am proud to be a part of the ONTHEBOOKS team and look forward to many more years of success here.\", \"My experience at ONTHEBOOKS has been nothing short of exceptional. The company's commitment to delivering high-quality consulting services is evident in the talented and dedicated team I have the pleasure of working with. The management is approachable and genuinely cares about the well-being and professional growth of their employees. The company culture is one of collaboration, innovation, and mutual respect, which has allowed me to thrive both personally and professionally. The compensation and benefits package is competitive, and the company regularly recognizes and rewards hard work and outstanding performance. I am excited about the future of ONTHEBOOKS and feel fortunate to be a part of this incredible organization.\", \"I regret to say that my time at ONTHEBOOKS has been quite disappointing. The workload is often overwhelming, with unrealistic expectations and tight deadlines that lead to a constant state of stress and burnout. The management team seems to be out of touch with the day-to-day challenges faced by employees and is often unresponsive to concerns raised. The company culture is highly competitive, with little emphasis on collaboration or teamwork. This has resulted in a toxic work environment where employees are pitted against each other, rather than working together towards common goals. Additionally, the compensation and benefits package is not on par with industry standards, making it difficult to justify the long hours and high-pressure environment.\", \"Having worked at ONTHEBOOKS for over a year, I must express my dissatisfaction with the company's leadership and work environment. The management is disorganized and often makes decisions without considering the impact on employees. Communication between departments is poor, leading to confusion and inefficiency. The work-life balance is practically non-existent, with employees regularly expected to work late nights and weekends to meet demanding client expectations. The company also lacks a clear growth plan, making it difficult to envision a long-term future here. Overall, I would not recommend ONTHEBOOKS to anyone seeking a fulfilling and supportive work environment.\", \"My experience at ONTHEBOOKS has been a mixed bag. On the positive side, the company offers a stable job with a decent salary and benefits package. The office location is convenient, and the facilities are well-maintained. The client portfolio is impressive, and the projects can be quite interesting and challenging. However, the company culture leaves much to be desired. There is a noticeable lack of camaraderie among employees, and the management team could do a better job of fostering a more inclusive and supportive environment. The workload can be quite heavy at times, but it is manageable with proper time management and prioritization. Overall, ONTHEBOOKS has its pros and cons, and whether it's the right fit for you will depend on your individual priorities and preferences.\"]}\n",
    "# Create DataFrame.\n",
    "main_df = pd.DataFrame(data)\n",
    "# Print the output.\n",
    "print(main_df)"
   ]
  },
  {
   "attachments": {},
   "cell_type": "markdown",
   "metadata": {},
   "source": [
    "### DistilBert"
   ]
  },
  {
   "attachments": {},
   "cell_type": "markdown",
   "metadata": {},
   "source": [
    "We can load the model from Huggingface's transformers library the provides pre trained models that are easy to use."
   ]
  },
  {
   "cell_type": "code",
   "execution_count": 1,
   "metadata": {},
   "outputs": [
    {
     "name": "stderr",
     "output_type": "stream",
     "text": [
      "/Users/hpatel31/miniconda/envs/final_sent/lib/python3.9/site-packages/tqdm/auto.py:21: TqdmWarning: IProgress not found. Please update jupyter and ipywidgets. See https://ipywidgets.readthedocs.io/en/stable/user_install.html\n",
      "  from .autonotebook import tqdm as notebook_tqdm\n"
     ]
    },
    {
     "name": "stdout",
     "output_type": "stream",
     "text": [
      "Intel MKL WARNING: Support of Intel(R) Streaming SIMD Extensions 4.2 (Intel(R) SSE4.2) enabled only processors has been deprecated. Intel oneAPI Math Kernel Library 2025.0 will require Intel(R) Advanced Vector Extensions (Intel(R) AVX) instructions.\n",
      "Intel MKL WARNING: Support of Intel(R) Streaming SIMD Extensions 4.2 (Intel(R) SSE4.2) enabled only processors has been deprecated. Intel oneAPI Math Kernel Library 2025.0 will require Intel(R) Advanced Vector Extensions (Intel(R) AVX) instructions.\n"
     ]
    },
    {
     "ename": "",
     "evalue": "",
     "output_type": "error",
     "traceback": [
      "\u001b[1;31mCannot execute code, session has been disposed. Please try restarting the Kernel."
     ]
    },
    {
     "ename": "",
     "evalue": "",
     "output_type": "error",
     "traceback": [
      "\u001b[1;31mThe Kernel crashed while executing code in the the current cell or a previous cell. Please review the code in the cell(s) to identify a possible cause of the failure. Click <a href='https://aka.ms/vscodeJupyterKernelCrash'>here</a> for more info. View Jupyter <a href='command:jupyter.viewOutput'>log</a> for further details."
     ]
    }
   ],
   "source": [
    "from transformers import DistilBertForSequenceClassification, DistilBertTokenizer, pipeline\n",
    "\n",
    "# Load pre-trained model and tokenizer\n",
    "tokenizer = DistilBertTokenizer.from_pretrained(\"distilbert-base-uncased\")\n",
    "model = DistilBertForSequenceClassification.from_pretrained(\"distilbert-base-uncased\")"
   ]
  },
  {
   "attachments": {},
   "cell_type": "markdown",
   "metadata": {},
   "source": [
    "Before feeding data into DistilBERT, it needs to be tokenized. The tokenizer object we loaded earlier can handle this:"
   ]
  },
  {
   "cell_type": "code",
   "execution_count": null,
   "metadata": {},
   "outputs": [],
   "source": [
    "# pre processing data\n",
    "def encode_review(text):\n",
    "    return tokenizer.encode_plus(\n",
    "        text,\n",
    "        max_length=512,\n",
    "        truncation=True,\n",
    "        padding='max_length',\n",
    "        return_attention_mask=True,\n",
    "        return_tensors='pt'\n",
    "    )"
   ]
  },
  {
   "attachments": {},
   "cell_type": "markdown",
   "metadata": {},
   "source": [
    "Using the model and tokenizer above is better suited when we are looking to train the model (a future prospect that may lead to more accurate results). For now, we will use the pipeline class to make predictions from models available on the HuggingFAce Hub. "
   ]
  },
  {
   "cell_type": "code",
   "execution_count": 25,
   "metadata": {},
   "outputs": [
    {
     "name": "stderr",
     "output_type": "stream",
     "text": [
      "No model was supplied, defaulted to distilbert-base-uncased-finetuned-sst-2-english and revision af0f99b (https://huggingface.co/distilbert-base-uncased-finetuned-sst-2-english).\n",
      "Using a pipeline without specifying a model name and revision in production is not recommended.\n",
      "Downloading (…)lve/main/config.json: 100%|██████████| 629/629 [00:00<00:00, 107kB/s]\n",
      "Downloading model.safetensors: 100%|██████████| 268M/268M [00:08<00:00, 30.0MB/s] \n",
      "Downloading (…)okenizer_config.json: 100%|██████████| 48.0/48.0 [00:00<00:00, 6.32kB/s]\n",
      "Downloading (…)solve/main/vocab.txt: 100%|██████████| 232k/232k [00:00<00:00, 3.79MB/s]\n"
     ]
    }
   ],
   "source": [
    "sentiment_pipeline = pipeline(\"sentiment-analysis\")"
   ]
  },
  {
   "attachments": {},
   "cell_type": "markdown",
   "metadata": {},
   "source": [
    "We can see that is uses the default model for sentiment analysis. "
   ]
  },
  {
   "cell_type": "code",
   "execution_count": 45,
   "metadata": {},
   "outputs": [],
   "source": [
    "def get_sentiment(\n",
    "    text: str\n",
    "    # model: DistilBertForSequenceClassification,\n",
    "    # tokenizer: DistilBertTokenizer\n",
    "):\n",
    "    \"\"\"Use model and tokenizer to extract sentiment of sentences from sentences_list.\n",
    "\n",
    "    Args:\n",
    "        sentences_list (list[str]): List of sentences for which we are extracting sentiment.\n",
    "        result_df (pd.DataFrame): Resulting dataframe that we will concatenate with df with new extracted sentiment.\n",
    "        model (AutoModelForSequenceClassification): DistilBert model.\n",
    "        tokenizer (AutoTokenizer): DistilBert tokenizer.\n",
    "\n",
    "    Returns:\n",
    "        pd.DataFrame: result_df with new extracted sentiment concatenated.\n",
    "    \"\"\"\n",
    "    #model_input = encode_review(text)\n",
    "    model_output = sentiment_pipeline(text)\n",
    "    # Get the prediction from the DistilBert model\n",
    "    #predictions = model_output.logits.argmax().item()\n",
    "    #print(predictions)\n",
    "    #positive = predictions[:, 0].tolist()\n",
    "    #negative = predictions[:, 1].tolist()\n",
    "    #neutral = predictions[:, 2].tolist()\n",
    "\n",
    "    #del predictions\n",
    "    #del model_output\n",
    "    return model_output"
   ]
  },
  {
   "cell_type": "code",
   "execution_count": 52,
   "metadata": {},
   "outputs": [
    {
     "name": "stdout",
     "output_type": "stream",
     "text": [
      "   ID                                         ReviewText Sentiment_Label  \\\n",
      "0   1  I have been working at ONTHEBOOKS for over fou...        POSITIVE   \n",
      "1   2  My experience at ONTHEBOOKS has been nothing s...        POSITIVE   \n",
      "2   3  I regret to say that my time at ONTHEBOOKS has...        NEGATIVE   \n",
      "3   4  Having worked at ONTHEBOOKS for over a year, I...        NEGATIVE   \n",
      "4   5  My experience at ONTHEBOOKS has been a mixed b...        POSITIVE   \n",
      "\n",
      "   Sentiment_Confidence  \n",
      "0              0.999833  \n",
      "1              0.999849  \n",
      "2              0.999221  \n",
      "3              0.999303  \n",
      "4              0.883224  \n"
     ]
    }
   ],
   "source": [
    "label = []\n",
    "score = []\n",
    "for text in main_df[\"ReviewText\"]:\n",
    "    output = get_sentiment(text = text)\n",
    "    label.append(output[0]['label'])\n",
    "    score.append(output[0]['score'])\n",
    "\n",
    "main_df[\"Sentiment_Label\"] = label\n",
    "main_df[\"Sentiment_Confidence\"] = score\n",
    "\n",
    "print(main_df)\n",
    "\n"
   ]
  },
  {
   "attachments": {},
   "cell_type": "markdown",
   "metadata": {},
   "source": [
    "Once we execute this model we get a sentiment label that is either Positive or Negative with the confidence of the sentiment. This is a good starting point however we would like a bit more information into how Positive, Negative and Neutral the review is with a score and not just a confidence score. "
   ]
  },
  {
   "attachments": {},
   "cell_type": "markdown",
   "metadata": {},
   "source": [
    "### VADER"
   ]
  },
  {
   "cell_type": "code",
   "execution_count": null,
   "metadata": {},
   "outputs": [
    {
     "ename": "",
     "evalue": "",
     "output_type": "error",
     "traceback": [
      "\u001b[1;31mCannot execute code, session has been disposed. Please try restarting the Kernel."
     ]
    }
   ],
   "source": [
    "import seaborn as sns\n",
    "import matplotlib.pyplot as plt\n",
    "import nltk\n",
    "from nltk.sentiment.vader import SentimentIntensityAnalyzer\n",
    "sentiments = SentimentIntensityAnalyzer()"
   ]
  },
  {
   "cell_type": "code",
   "execution_count": 63,
   "metadata": {},
   "outputs": [],
   "source": [
    "main_df['Positive'] = [sentiments.polarity_scores(i)[\"pos\"] for i in main_df[\"ReviewText\"]]\n",
    "main_df['Negative'] = [sentiments.polarity_scores(i)[\"neg\"] for i in main_df[\"ReviewText\"]]\n",
    "main_df['Neutral'] = [sentiments.polarity_scores(i)[\"neu\"] for i in main_df[\"ReviewText\"]]"
   ]
  },
  {
   "cell_type": "code",
   "execution_count": 64,
   "metadata": {},
   "outputs": [
    {
     "name": "stdout",
     "output_type": "stream",
     "text": [
      "   ID  Glassdoor Rating                                         ReviewText  \\\n",
      "0   1               4.0  I have been working at ONTHEBOOKS for over fou...   \n",
      "1   2               4.2  My experience at ONTHEBOOKS has been nothing s...   \n",
      "2   3               2.4  I regret to say that my time at ONTHEBOOKS has...   \n",
      "3   4               1.8  Having worked at ONTHEBOOKS for over a year, I...   \n",
      "4   5               3.0  My experience at ONTHEBOOKS has been a mixed b...   \n",
      "\n",
      "   Positive  Negative  Neutral  \n",
      "0     0.262     0.000    0.738  \n",
      "1     0.308     0.011    0.682  \n",
      "2     0.048     0.094    0.858  \n",
      "3     0.070     0.163    0.767  \n",
      "4     0.152     0.013    0.836  \n"
     ]
    }
   ],
   "source": [
    "print(main_df)"
   ]
  },
  {
   "attachments": {},
   "cell_type": "markdown",
   "metadata": {},
   "source": [
    "Using vader, we get the sentiment strength based on the text for Positive, Negative and Neutral sentiment. However, doing some manual comparison, the results do not seem to be as accurate as the HuggingFace models so we will go back to using another HuggingFace pre-trained model."
   ]
  },
  {
   "attachments": {},
   "cell_type": "markdown",
   "metadata": {},
   "source": [
    "### RoBERTa"
   ]
  },
  {
   "cell_type": "code",
   "execution_count": 2,
   "metadata": {},
   "outputs": [
    {
     "name": "stderr",
     "output_type": "stream",
     "text": [
      "/Users/hpatel31/miniconda/envs/final_sent/lib/python3.9/site-packages/tqdm/auto.py:21: TqdmWarning: IProgress not found. Please update jupyter and ipywidgets. See https://ipywidgets.readthedocs.io/en/stable/user_install.html\n",
      "  from .autonotebook import tqdm as notebook_tqdm\n"
     ]
    },
    {
     "ename": "",
     "evalue": "",
     "output_type": "error",
     "traceback": [
      "\u001b[1;31mCannot execute code, session has been disposed. Please try restarting the Kernel."
     ]
    },
    {
     "ename": "",
     "evalue": "",
     "output_type": "error",
     "traceback": [
      "\u001b[1;31mThe Kernel crashed while executing code in the the current cell or a previous cell. Please review the code in the cell(s) to identify a possible cause of the failure. Click <a href='https://aka.ms/vscodeJupyterKernelCrash'>here</a> for more info. View Jupyter <a href='command:jupyter.viewOutput'>log</a> for further details."
     ]
    }
   ],
   "source": [
    "from scipy.special import softmax\n",
    "from transformers import AutoTokenizer, AutoModelForSequenceClassification\n",
    "\n",
    "# load model and tokenizer\n",
    "roberta = \"cardiffnlp/twitter-roberta-base-sentiment\"\n",
    "roberta_model = AutoModelForSequenceClassification.from_pretrained(roberta)\n",
    "roberta_tokenizer = AutoTokenizer.from_pretrained(roberta)\n",
    "labels = ['Negative', 'Neutral', 'Positive']\n",
    "\n",
    "def roberta_sentiment(\n",
    "    text: str\n",
    "):\n",
    "    encoded_text = roberta_tokenizer(text, return_tensors='pt')\n",
    "    output = roberta_model(**encoded_text)\n",
    "    scores = output[0][0].detach().numpy()\n",
    "    scores = softmax(scores)\n",
    "\n",
    "    return scores"
   ]
  },
  {
   "cell_type": "code",
   "execution_count": 28,
   "metadata": {},
   "outputs": [
    {
     "name": "stdout",
     "output_type": "stream",
     "text": [
      "   ID  Glassdoor Rating                                         ReviewText  \\\n",
      "0   1               4.0  I have been working at ONTHEBOOKS for over fou...   \n",
      "1   2               4.2  My experience at ONTHEBOOKS has been nothing s...   \n",
      "2   3               2.4  I regret to say that my time at ONTHEBOOKS has...   \n",
      "3   4               1.8  Having worked at ONTHEBOOKS for over a year, I...   \n",
      "4   5               3.0  My experience at ONTHEBOOKS has been a mixed b...   \n",
      "\n",
      "   Negative Sentiment  Neutral Sentiment  Positive Sentiment  \n",
      "0            0.000942           0.009013            0.990045  \n",
      "1            0.001332           0.008737            0.989931  \n",
      "2            0.940457           0.054331            0.005212  \n",
      "3            0.938415           0.055953            0.005631  \n",
      "4            0.099290           0.291708            0.609002  \n"
     ]
    }
   ],
   "source": [
    "neg = []\n",
    "neu = []\n",
    "pos = []\n",
    "for text in glassdoor_hotel[\"reviewText\"]:\n",
    "    output = roberta_sentiment(text = text)\n",
    "    neg.append(output[0])\n",
    "    neu.append(output[1])\n",
    "    pos.append(output[2])\n",
    "\n",
    "glassdoor_hotel[\"Negative Sentiment\"] = neg\n",
    "glassdoor_hotel[\"Neutral Sentiment\"] = neu\n",
    "glassdoor_hotel[\"Positive Sentiment\"] = pos"
   ]
  },
  {
   "cell_type": "code",
   "execution_count": 46,
   "metadata": {},
   "outputs": [
    {
     "name": "stdout",
     "output_type": "stream",
     "text": [
      "   ID  Glassdoor Rating                                         ReviewText  \\\n",
      "0   1               4.0  I have been working at ONTHEBOOKS for over fou...   \n",
      "1   2               4.2  My experience at ONTHEBOOKS has been nothing s...   \n",
      "2   3               2.4  I regret to say that my time at ONTHEBOOKS has...   \n",
      "3   4               1.8  Having worked at ONTHEBOOKS for over a year, I...   \n",
      "4   5               3.0  My experience at ONTHEBOOKS has been a mixed b...   \n",
      "\n",
      "   Negative Sentiment  Neutral Sentiment  Positive Sentiment  \\\n",
      "0            0.000942           0.009013            0.990045   \n",
      "1            0.001332           0.008737            0.989931   \n",
      "2            0.940457           0.054331            0.005212   \n",
      "3            0.938415           0.055953            0.005631   \n",
      "4            0.099290           0.291708            0.609002   \n",
      "\n",
      "            Sentiment  \n",
      "0  Positive Sentiment  \n",
      "1  Positive Sentiment  \n",
      "2  Negative Sentiment  \n",
      "3  Negative Sentiment  \n",
      "4  Positive Sentiment  \n"
     ]
    }
   ],
   "source": [
    "sentiment_df = glassdoor_hotel[[\"Negative Sentiment\", \"Neutral Sentiment\", \"Positive Sentiment\"]]\n",
    "glassdoor_hotel['Sentiment'] = sentiment_df.idxmax(axis=1)\n",
    "pprint(glassdoor_hotel)"
   ]
  }
 ],
 "metadata": {
  "kernelspec": {
   "display_name": "kb1",
   "language": "python",
   "name": "python3"
  },
  "language_info": {
   "codemirror_mode": {
    "name": "ipython",
    "version": 3
   },
   "file_extension": ".py",
   "mimetype": "text/x-python",
   "name": "python",
   "nbconvert_exporter": "python",
   "pygments_lexer": "ipython3",
   "version": "3.9.18"
  },
  "orig_nbformat": 4
 },
 "nbformat": 4,
 "nbformat_minor": 2
}
